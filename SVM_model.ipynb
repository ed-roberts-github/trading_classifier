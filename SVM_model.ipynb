{
 "cells": [
  {
   "cell_type": "markdown",
   "metadata": {},
   "source": [
    "# Market direction classifier\n",
    "Note: \n",
    "* This model is fundamentally flawed due to the Efficients Markets Hypothesis (EMH) which states all available information is already priced into stock data. However, building and backtesting a model like this still provides valuable learning opportunities.\n",
    "* This notebook is a work in progress \n",
    "* This notebook shouldn't be seen as actual trading advice to be applied in reality, more as a learning resource\n",
    "* Transaction costs aren't taken into account in this model\n",
    "\n",
    "In this work, I import historical candlestick data of EUR/USD exchange values from Twelve Data API. I then calculate returns over each time incriment by averaging Open-Close values. A set of 5 return values are then used to train a SVM classifier to predict the direction of market movements. The dataset is split into a train and test set to reduce overfitting. The test set is used to backtest performance of the model. Estimated returns (excluding transaction costs) are then calculated."
   ]
  },
  {
   "cell_type": "code",
   "execution_count": 2,
   "metadata": {},
   "outputs": [],
   "source": [
    "import requests\n",
    "import numpy as np\n",
    "import pandas as pd\n",
    "import datetime as dt\n",
    "import time\n",
    "import matplotlib.pyplot as plt\n",
    "import seaborn as sns\n",
    "from sklearn.svm import SVC\n",
    "from sklearn.model_selection import train_test_split\n",
    "from config import API_KEY\n",
    "from sklearn.metrics import accuracy_score\n",
    "\n",
    "\n",
    "pd.set_option('display.max_columns',200)"
   ]
  },
  {
   "cell_type": "code",
   "execution_count": 3,
   "metadata": {},
   "outputs": [],
   "source": [
    "url = \"https://twelve-data1.p.rapidapi.com/time_series\"\n",
    "\n",
    "querystring = {\"symbol\":\"EUR/USD\",\n",
    "               \"interval\":\"15min\",\n",
    "               \"outputsize\":\"5000\",\n",
    "               \"format\":\"json\"}\n",
    "\n",
    "headers = {\n",
    "\t\"X-RapidAPI-Key\": API_KEY,\n",
    "\t\"X-RapidAPI-Host\": \"twelve-data1.p.rapidapi.com\"\n",
    "}\n",
    "\n",
    "response = requests.get(url, headers=headers, params=querystring)\n",
    "\n",
    "# print(response.json())"
   ]
  },
  {
   "cell_type": "code",
   "execution_count": 4,
   "metadata": {},
   "outputs": [
    {
     "data": {
      "text/html": [
       "<div>\n",
       "<style scoped>\n",
       "    .dataframe tbody tr th:only-of-type {\n",
       "        vertical-align: middle;\n",
       "    }\n",
       "\n",
       "    .dataframe tbody tr th {\n",
       "        vertical-align: top;\n",
       "    }\n",
       "\n",
       "    .dataframe thead th {\n",
       "        text-align: right;\n",
       "    }\n",
       "</style>\n",
       "<table border=\"1\" class=\"dataframe\">\n",
       "  <thead>\n",
       "    <tr style=\"text-align: right;\">\n",
       "      <th></th>\n",
       "      <th>datetime</th>\n",
       "      <th>open</th>\n",
       "      <th>high</th>\n",
       "      <th>low</th>\n",
       "      <th>close</th>\n",
       "    </tr>\n",
       "  </thead>\n",
       "  <tbody>\n",
       "    <tr>\n",
       "      <th>0</th>\n",
       "      <td>2023-09-21 22:30:00</td>\n",
       "      <td>1.0632</td>\n",
       "      <td>1.06370</td>\n",
       "      <td>1.0625</td>\n",
       "      <td>1.0635</td>\n",
       "    </tr>\n",
       "    <tr>\n",
       "      <th>1</th>\n",
       "      <td>2023-09-21 22:45:00</td>\n",
       "      <td>1.0635</td>\n",
       "      <td>1.06420</td>\n",
       "      <td>1.0633</td>\n",
       "      <td>1.0642</td>\n",
       "    </tr>\n",
       "    <tr>\n",
       "      <th>2</th>\n",
       "      <td>2023-09-21 23:00:00</td>\n",
       "      <td>1.0644</td>\n",
       "      <td>1.06480</td>\n",
       "      <td>1.0639</td>\n",
       "      <td>1.0645</td>\n",
       "    </tr>\n",
       "    <tr>\n",
       "      <th>3</th>\n",
       "      <td>2023-09-21 23:15:00</td>\n",
       "      <td>1.0645</td>\n",
       "      <td>1.06545</td>\n",
       "      <td>1.0640</td>\n",
       "      <td>1.0654</td>\n",
       "    </tr>\n",
       "    <tr>\n",
       "      <th>4</th>\n",
       "      <td>2023-09-21 23:30:00</td>\n",
       "      <td>1.0652</td>\n",
       "      <td>1.06600</td>\n",
       "      <td>1.0647</td>\n",
       "      <td>1.0656</td>\n",
       "    </tr>\n",
       "    <tr>\n",
       "      <th>...</th>\n",
       "      <td>...</td>\n",
       "      <td>...</td>\n",
       "      <td>...</td>\n",
       "      <td>...</td>\n",
       "      <td>...</td>\n",
       "    </tr>\n",
       "    <tr>\n",
       "      <th>4995</th>\n",
       "      <td>2023-12-05 07:45:00</td>\n",
       "      <td>1.0834</td>\n",
       "      <td>1.08355</td>\n",
       "      <td>1.0832</td>\n",
       "      <td>1.0834</td>\n",
       "    </tr>\n",
       "    <tr>\n",
       "      <th>4996</th>\n",
       "      <td>2023-12-05 08:00:00</td>\n",
       "      <td>1.0834</td>\n",
       "      <td>1.08370</td>\n",
       "      <td>1.0833</td>\n",
       "      <td>1.0835</td>\n",
       "    </tr>\n",
       "    <tr>\n",
       "      <th>4997</th>\n",
       "      <td>2023-12-05 08:15:00</td>\n",
       "      <td>1.0835</td>\n",
       "      <td>1.08370</td>\n",
       "      <td>1.0834</td>\n",
       "      <td>1.0836</td>\n",
       "    </tr>\n",
       "    <tr>\n",
       "      <th>4998</th>\n",
       "      <td>2023-12-05 08:30:00</td>\n",
       "      <td>1.0836</td>\n",
       "      <td>1.08370</td>\n",
       "      <td>1.0835</td>\n",
       "      <td>1.0835</td>\n",
       "    </tr>\n",
       "    <tr>\n",
       "      <th>4999</th>\n",
       "      <td>2023-12-05 08:45:00</td>\n",
       "      <td>1.0835</td>\n",
       "      <td>1.08360</td>\n",
       "      <td>1.0835</td>\n",
       "      <td>1.0836</td>\n",
       "    </tr>\n",
       "  </tbody>\n",
       "</table>\n",
       "<p>5000 rows × 5 columns</p>\n",
       "</div>"
      ],
      "text/plain": [
       "                 datetime    open     high     low   close\n",
       "0     2023-09-21 22:30:00  1.0632  1.06370  1.0625  1.0635\n",
       "1     2023-09-21 22:45:00  1.0635  1.06420  1.0633  1.0642\n",
       "2     2023-09-21 23:00:00  1.0644  1.06480  1.0639  1.0645\n",
       "3     2023-09-21 23:15:00  1.0645  1.06545  1.0640  1.0654\n",
       "4     2023-09-21 23:30:00  1.0652  1.06600  1.0647  1.0656\n",
       "...                   ...     ...      ...     ...     ...\n",
       "4995  2023-12-05 07:45:00  1.0834  1.08355  1.0832  1.0834\n",
       "4996  2023-12-05 08:00:00  1.0834  1.08370  1.0833  1.0835\n",
       "4997  2023-12-05 08:15:00  1.0835  1.08370  1.0834  1.0836\n",
       "4998  2023-12-05 08:30:00  1.0836  1.08370  1.0835  1.0835\n",
       "4999  2023-12-05 08:45:00  1.0835  1.08360  1.0835  1.0836\n",
       "\n",
       "[5000 rows x 5 columns]"
      ]
     },
     "execution_count": 4,
     "metadata": {},
     "output_type": "execute_result"
    }
   ],
   "source": [
    "df_in = pd.json_normalize(response.json()['values'], \n",
    "                        meta=['datetime', 'open', 'high', 'low', 'close', ])\n",
    "df_in[['open', 'high', 'low', 'close', ]] = df_in[['open', 'high', 'low', 'close',]].apply(pd.to_numeric)\n",
    "df = df_in.copy().iloc[::-1].reset_index(drop=True)\n",
    "df.drop(index=0)\n",
    "df"
   ]
  },
  {
   "cell_type": "markdown",
   "metadata": {},
   "source": [
    "Note this data doesn't include the bid-ask spread so we are essentially assuming 0 transaction cost\n",
    "(An assumption of model - which is incorrect)"
   ]
  },
  {
   "cell_type": "code",
   "execution_count": 20,
   "metadata": {},
   "outputs": [
    {
     "data": {
      "image/png": "[encoded data removed]",
      "text/plain": [
       "<Figure size 640x480 with 1 Axes>"
      ]
     },
     "metadata": {},
     "output_type": "display_data"
    }
   ],
   "source": [
    "df['avg'] = df[['open','close']].mean(axis=1)\n",
    "plt.plot(df['avg'])\n",
    "plt.xlabel('Time (15min intervals)')\n",
    "plt.ylabel('Avg EUR/USD')\n",
    "plt.title('EUR/USD Exchange over time');"
   ]
  },
  {
   "cell_type": "code",
   "execution_count": 6,
   "metadata": {},
   "outputs": [],
   "source": [
    "df['returns'] = np.log(df['avg'] / df['avg'].shift(1)) \n",
    "df.dropna(inplace=True)\n",
    "df['direction'] = np.sign(df['returns']).astype(int)"
   ]
  },
  {
   "cell_type": "code",
   "execution_count": 24,
   "metadata": {},
   "outputs": [
    {
     "data": {
      "image/png": "[encoded data removed]",
      "text/plain": [
       "<Figure size 640x480 with 1 Axes>"
      ]
     },
     "metadata": {},
     "output_type": "display_data"
    }
   ],
   "source": [
    "plt.hist(df['returns']);\n",
    "plt.ylabel('Frequency')\n",
    "plt.xlabel('Returns (technically log returns)')\n",
    "plt.title('Histogram of returns');"
   ]
  },
  {
   "cell_type": "code",
   "execution_count": 8,
   "metadata": {},
   "outputs": [],
   "source": [
    "def add_lagged_columns(df, column_to_lag, num_lags) -> pd.DataFrame:\n",
    "    \"\"\"\n",
    "    Add lagged columns to a DataFrame.\n",
    "\n",
    "    Parameters:\n",
    "        df (pd.DataFrame): The input DataFrame.\n",
    "        column_to_lag (str): The column for which lagged columns are created.\n",
    "        num_lags (int): The number of lagged columns to add.\n",
    "    \n",
    "    Returns:\n",
    "        output_df: containing the direction and the lagged returns cols\n",
    "    \"\"\"\n",
    "    cols = []\n",
    "    for i in range(1, num_lags + 1):\n",
    "        cols.append(f'{column_to_lag}_lag{i}')\n",
    "        df[f'{column_to_lag}_lag{i}'] = df[column_to_lag].shift(i)\n",
    "    return  cols"
   ]
  },
  {
   "cell_type": "code",
   "execution_count": 9,
   "metadata": {},
   "outputs": [
    {
     "data": {
      "text/html": [
       "<div>\n",
       "<style scoped>\n",
       "    .dataframe tbody tr th:only-of-type {\n",
       "        vertical-align: middle;\n",
       "    }\n",
       "\n",
       "    .dataframe tbody tr th {\n",
       "        vertical-align: top;\n",
       "    }\n",
       "\n",
       "    .dataframe thead th {\n",
       "        text-align: right;\n",
       "    }\n",
       "</style>\n",
       "<table border=\"1\" class=\"dataframe\">\n",
       "  <thead>\n",
       "    <tr style=\"text-align: right;\">\n",
       "      <th></th>\n",
       "      <th>datetime</th>\n",
       "      <th>open</th>\n",
       "      <th>high</th>\n",
       "      <th>low</th>\n",
       "      <th>close</th>\n",
       "      <th>avg</th>\n",
       "      <th>returns</th>\n",
       "      <th>direction</th>\n",
       "      <th>returns_lag1</th>\n",
       "      <th>returns_lag2</th>\n",
       "      <th>returns_lag3</th>\n",
       "      <th>returns_lag4</th>\n",
       "      <th>returns_lag5</th>\n",
       "    </tr>\n",
       "  </thead>\n",
       "  <tbody>\n",
       "    <tr>\n",
       "      <th>6</th>\n",
       "      <td>2023-09-22 00:00:00</td>\n",
       "      <td>1.0641</td>\n",
       "      <td>1.06480</td>\n",
       "      <td>1.0638</td>\n",
       "      <td>1.06480</td>\n",
       "      <td>1.064450</td>\n",
       "      <td>-0.000282</td>\n",
       "      <td>-1</td>\n",
       "      <td>-0.000610</td>\n",
       "      <td>0.000422</td>\n",
       "      <td>0.000470</td>\n",
       "      <td>0.000564</td>\n",
       "      <td>0.000470</td>\n",
       "    </tr>\n",
       "    <tr>\n",
       "      <th>7</th>\n",
       "      <td>2023-09-22 00:15:00</td>\n",
       "      <td>1.0648</td>\n",
       "      <td>1.06650</td>\n",
       "      <td>1.0648</td>\n",
       "      <td>1.06630</td>\n",
       "      <td>1.065550</td>\n",
       "      <td>0.001033</td>\n",
       "      <td>1</td>\n",
       "      <td>-0.000282</td>\n",
       "      <td>-0.000610</td>\n",
       "      <td>0.000422</td>\n",
       "      <td>0.000470</td>\n",
       "      <td>0.000564</td>\n",
       "    </tr>\n",
       "    <tr>\n",
       "      <th>8</th>\n",
       "      <td>2023-09-22 00:30:00</td>\n",
       "      <td>1.0662</td>\n",
       "      <td>1.06730</td>\n",
       "      <td>1.0661</td>\n",
       "      <td>1.06650</td>\n",
       "      <td>1.066350</td>\n",
       "      <td>0.000751</td>\n",
       "      <td>1</td>\n",
       "      <td>0.001033</td>\n",
       "      <td>-0.000282</td>\n",
       "      <td>-0.000610</td>\n",
       "      <td>0.000422</td>\n",
       "      <td>0.000470</td>\n",
       "    </tr>\n",
       "    <tr>\n",
       "      <th>9</th>\n",
       "      <td>2023-09-22 00:45:00</td>\n",
       "      <td>1.0665</td>\n",
       "      <td>1.06650</td>\n",
       "      <td>1.0657</td>\n",
       "      <td>1.06590</td>\n",
       "      <td>1.066200</td>\n",
       "      <td>-0.000141</td>\n",
       "      <td>-1</td>\n",
       "      <td>0.000751</td>\n",
       "      <td>0.001033</td>\n",
       "      <td>-0.000282</td>\n",
       "      <td>-0.000610</td>\n",
       "      <td>0.000422</td>\n",
       "    </tr>\n",
       "    <tr>\n",
       "      <th>10</th>\n",
       "      <td>2023-09-22 01:00:00</td>\n",
       "      <td>1.0659</td>\n",
       "      <td>1.06670</td>\n",
       "      <td>1.0655</td>\n",
       "      <td>1.06605</td>\n",
       "      <td>1.065975</td>\n",
       "      <td>-0.000211</td>\n",
       "      <td>-1</td>\n",
       "      <td>-0.000141</td>\n",
       "      <td>0.000751</td>\n",
       "      <td>0.001033</td>\n",
       "      <td>-0.000282</td>\n",
       "      <td>-0.000610</td>\n",
       "    </tr>\n",
       "    <tr>\n",
       "      <th>...</th>\n",
       "      <td>...</td>\n",
       "      <td>...</td>\n",
       "      <td>...</td>\n",
       "      <td>...</td>\n",
       "      <td>...</td>\n",
       "      <td>...</td>\n",
       "      <td>...</td>\n",
       "      <td>...</td>\n",
       "      <td>...</td>\n",
       "      <td>...</td>\n",
       "      <td>...</td>\n",
       "      <td>...</td>\n",
       "      <td>...</td>\n",
       "    </tr>\n",
       "    <tr>\n",
       "      <th>4995</th>\n",
       "      <td>2023-12-05 07:45:00</td>\n",
       "      <td>1.0834</td>\n",
       "      <td>1.08355</td>\n",
       "      <td>1.0832</td>\n",
       "      <td>1.08340</td>\n",
       "      <td>1.083400</td>\n",
       "      <td>0.000231</td>\n",
       "      <td>1</td>\n",
       "      <td>0.000092</td>\n",
       "      <td>0.000000</td>\n",
       "      <td>0.000323</td>\n",
       "      <td>0.000092</td>\n",
       "      <td>0.000323</td>\n",
       "    </tr>\n",
       "    <tr>\n",
       "      <th>4996</th>\n",
       "      <td>2023-12-05 08:00:00</td>\n",
       "      <td>1.0834</td>\n",
       "      <td>1.08370</td>\n",
       "      <td>1.0833</td>\n",
       "      <td>1.08350</td>\n",
       "      <td>1.083450</td>\n",
       "      <td>0.000046</td>\n",
       "      <td>1</td>\n",
       "      <td>0.000231</td>\n",
       "      <td>0.000092</td>\n",
       "      <td>0.000000</td>\n",
       "      <td>0.000323</td>\n",
       "      <td>0.000092</td>\n",
       "    </tr>\n",
       "    <tr>\n",
       "      <th>4997</th>\n",
       "      <td>2023-12-05 08:15:00</td>\n",
       "      <td>1.0835</td>\n",
       "      <td>1.08370</td>\n",
       "      <td>1.0834</td>\n",
       "      <td>1.08360</td>\n",
       "      <td>1.083550</td>\n",
       "      <td>0.000092</td>\n",
       "      <td>1</td>\n",
       "      <td>0.000046</td>\n",
       "      <td>0.000231</td>\n",
       "      <td>0.000092</td>\n",
       "      <td>0.000000</td>\n",
       "      <td>0.000323</td>\n",
       "    </tr>\n",
       "    <tr>\n",
       "      <th>4998</th>\n",
       "      <td>2023-12-05 08:30:00</td>\n",
       "      <td>1.0836</td>\n",
       "      <td>1.08370</td>\n",
       "      <td>1.0835</td>\n",
       "      <td>1.08350</td>\n",
       "      <td>1.083550</td>\n",
       "      <td>0.000000</td>\n",
       "      <td>0</td>\n",
       "      <td>0.000092</td>\n",
       "      <td>0.000046</td>\n",
       "      <td>0.000231</td>\n",
       "      <td>0.000092</td>\n",
       "      <td>0.000000</td>\n",
       "    </tr>\n",
       "    <tr>\n",
       "      <th>4999</th>\n",
       "      <td>2023-12-05 08:45:00</td>\n",
       "      <td>1.0835</td>\n",
       "      <td>1.08360</td>\n",
       "      <td>1.0835</td>\n",
       "      <td>1.08360</td>\n",
       "      <td>1.083550</td>\n",
       "      <td>0.000000</td>\n",
       "      <td>0</td>\n",
       "      <td>0.000000</td>\n",
       "      <td>0.000092</td>\n",
       "      <td>0.000046</td>\n",
       "      <td>0.000231</td>\n",
       "      <td>0.000092</td>\n",
       "    </tr>\n",
       "  </tbody>\n",
       "</table>\n",
       "<p>4994 rows × 13 columns</p>\n",
       "</div>"
      ],
      "text/plain": [
       "                 datetime    open     high     low    close       avg  \\\n",
       "6     2023-09-22 00:00:00  1.0641  1.06480  1.0638  1.06480  1.064450   \n",
       "7     2023-09-22 00:15:00  1.0648  1.06650  1.0648  1.06630  1.065550   \n",
       "8     2023-09-22 00:30:00  1.0662  1.06730  1.0661  1.06650  1.066350   \n",
       "9     2023-09-22 00:45:00  1.0665  1.06650  1.0657  1.06590  1.066200   \n",
       "10    2023-09-22 01:00:00  1.0659  1.06670  1.0655  1.06605  1.065975   \n",
       "...                   ...     ...      ...     ...      ...       ...   \n",
       "4995  2023-12-05 07:45:00  1.0834  1.08355  1.0832  1.08340  1.083400   \n",
       "4996  2023-12-05 08:00:00  1.0834  1.08370  1.0833  1.08350  1.083450   \n",
       "4997  2023-12-05 08:15:00  1.0835  1.08370  1.0834  1.08360  1.083550   \n",
       "4998  2023-12-05 08:30:00  1.0836  1.08370  1.0835  1.08350  1.083550   \n",
       "4999  2023-12-05 08:45:00  1.0835  1.08360  1.0835  1.08360  1.083550   \n",
       "\n",
       "       returns  direction  returns_lag1  returns_lag2  returns_lag3  \\\n",
       "6    -0.000282         -1     -0.000610      0.000422      0.000470   \n",
       "7     0.001033          1     -0.000282     -0.000610      0.000422   \n",
       "8     0.000751          1      0.001033     -0.000282     -0.000610   \n",
       "9    -0.000141         -1      0.000751      0.001033     -0.000282   \n",
       "10   -0.000211         -1     -0.000141      0.000751      0.001033   \n",
       "...        ...        ...           ...           ...           ...   \n",
       "4995  0.000231          1      0.000092      0.000000      0.000323   \n",
       "4996  0.000046          1      0.000231      0.000092      0.000000   \n",
       "4997  0.000092          1      0.000046      0.000231      0.000092   \n",
       "4998  0.000000          0      0.000092      0.000046      0.000231   \n",
       "4999  0.000000          0      0.000000      0.000092      0.000046   \n",
       "\n",
       "      returns_lag4  returns_lag5  \n",
       "6         0.000564      0.000470  \n",
       "7         0.000470      0.000564  \n",
       "8         0.000422      0.000470  \n",
       "9        -0.000610      0.000422  \n",
       "10       -0.000282     -0.000610  \n",
       "...            ...           ...  \n",
       "4995      0.000092      0.000323  \n",
       "4996      0.000323      0.000092  \n",
       "4997      0.000000      0.000323  \n",
       "4998      0.000092      0.000000  \n",
       "4999      0.000231      0.000092  \n",
       "\n",
       "[4994 rows x 13 columns]"
      ]
     },
     "execution_count": 9,
     "metadata": {},
     "output_type": "execute_result"
    }
   ],
   "source": [
    "num_lags = 5\n",
    "x_cols = add_lagged_columns(df,'returns', num_lags)\n",
    "df.dropna(inplace=True)\n",
    "df"
   ]
  },
  {
   "cell_type": "code",
   "execution_count": 10,
   "metadata": {},
   "outputs": [],
   "source": [
    "def fit_models(data):\n",
    "    mfit = {model: models[model].fit(data[x_cols],data['direction'])\n",
    "            for model in models.keys()}\n",
    "\n",
    "def derive_positions(DF):\n",
    "    for model in models.keys():\n",
    "        DF['pos_' + model] = models[model].predict(DF[x_cols])\n",
    "\n",
    "def evaluate_strats(data):\n",
    "    sel = []\n",
    "    for model in models.keys():\n",
    "        col = 'strat_' + model\n",
    "        data[col] = data['pos_' + model] * data['returns']\n",
    "        sel.append(col)\n",
    "    sel.insert(0, 'returns')\n",
    "    return sel\n"
   ]
  },
  {
   "cell_type": "code",
   "execution_count": 11,
   "metadata": {},
   "outputs": [],
   "source": [
    "# train, test = train_test_split(df, test_size=0.5, shuffle=True, random_state=100)\n",
    "\n",
    "split = int(len(df) * 0.5)\n",
    "train = df.iloc[:split].copy()\n",
    "test = df.iloc[split:].copy()\n",
    "\n",
    "train = train.copy().sort_index()\n",
    "test = test.copy().sort_index()"
   ]
  },
  {
   "cell_type": "code",
   "execution_count": 12,
   "metadata": {},
   "outputs": [],
   "source": [
    "models = {\n",
    " 'svm': SVC(C=1)\n",
    " }"
   ]
  },
  {
   "cell_type": "code",
   "execution_count": 13,
   "metadata": {},
   "outputs": [
    {
     "data": {
      "text/plain": [
       "returns      1.023762\n",
       "strat_svm    1.278296\n",
       "dtype: float64"
      ]
     },
     "execution_count": 13,
     "metadata": {},
     "output_type": "execute_result"
    }
   ],
   "source": [
    "fit_models(train)\n",
    "derive_positions(test)\n",
    "sel = evaluate_strats(test)\n",
    "test[sel].sum().apply(np.exp)"
   ]
  },
  {
   "cell_type": "code",
   "execution_count": 14,
   "metadata": {},
   "outputs": [
    {
     "name": "stdout",
     "output_type": "stream",
     "text": [
      "SVM position accuracy in test set: 60.75%\n"
     ]
    }
   ],
   "source": [
    "print(f'SVM position accuracy in test set: {round(accuracy_score(test['direction'], test['pos_svm'])*100,ndigits=2)}%')"
   ]
  },
  {
   "cell_type": "code",
   "execution_count": 15,
   "metadata": {},
   "outputs": [
    {
     "ename": "AttributeError",
     "evalue": "'Axes' object has no attribute 'xlabel'",
     "output_type": "error",
     "traceback": [
      "\u001b[0;31m---------------------------------------------------------------------------\u001b[0m",
      "\u001b[0;31mAttributeError\u001b[0m                            Traceback (most recent call last)",
      "\u001b[1;32m/Users/edroberts/Desktop/algo-trade/SVM_model.ipynb Cell 16\u001b[0m line \u001b[0;36m2\n\u001b[1;32m      <a href='vscode-notebook-cell:/Users/edroberts/Desktop/algo-trade/SVM_model.ipynb#X20sZmlsZQ%3D%3D?line=0'>1</a>\u001b[0m ax \u001b[39m=\u001b[39m test[sel]\u001b[39m.\u001b[39mcumsum()\u001b[39m.\u001b[39mapply(np\u001b[39m.\u001b[39mexp)\u001b[39m.\u001b[39mplot(figsize\u001b[39m=\u001b[39m(\u001b[39m10\u001b[39m, \u001b[39m6\u001b[39m));\n\u001b[0;32m----> <a href='vscode-notebook-cell:/Users/edroberts/Desktop/algo-trade/SVM_model.ipynb#X20sZmlsZQ%3D%3D?line=1'>2</a>\u001b[0m ax\u001b[39m.\u001b[39;49mxlabel(\u001b[39m'\u001b[39m\u001b[39mTrade ID - 1 represents a 15min period\u001b[39m\u001b[39m'\u001b[39m)\n",
      "\u001b[0;31mAttributeError\u001b[0m: 'Axes' object has no attribute 'xlabel'"
     ]
    },
    {
     "data": {
      "image/png": "[encoded data removed]",
      "text/plain": [
       "<Figure size 1000x600 with 1 Axes>"
      ]
     },
     "metadata": {},
     "output_type": "display_data"
    }
   ],
   "source": [
    "ax = test[sel].cumsum().apply(np.exp).plot(figsize=(10, 6));\n",
    "ax.xlabel('Trade ID - 1 represents a 15min period')"
   ]
  },
  {
   "cell_type": "code",
   "execution_count": null,
   "metadata": {},
   "outputs": [
    {
     "name": "stdout",
     "output_type": "stream",
     "text": [
      "Total number of trades: 1254\n"
     ]
    }
   ],
   "source": [
    "my_column_changes = (test[\"pos_svm\"].shift() != test[\"pos_svm\"]).sum()\n",
    "print(f'Total number of trades: {my_column_changes}')"
   ]
  },
  {
   "cell_type": "markdown",
   "metadata": {},
   "source": [
    "This looks somewhat suspicious, 27% returns within about 1 month of trading! Too good to be true?\n",
    "* Is the model overfit?\n",
    "* Is this just a chance month? > need to test on longer time periods\n",
    "* Is the model even valid given EMH?\n",
    "* Transaction costs required? 1254 trades with a small cost on each could add up."
   ]
  },
  {
   "cell_type": "markdown",
   "metadata": {},
   "source": [
    "## Leverage"
   ]
  },
  {
   "cell_type": "code",
   "execution_count": null,
   "metadata": {},
   "outputs": [
    {
     "name": "stdout",
     "output_type": "stream",
     "text": [
      "Days of test set time period: 36\n"
     ]
    }
   ],
   "source": [
    "deltaTime = pd.Timedelta(pd.to_datetime(test.iloc[-1,0]) - pd.to_datetime(test.iloc[0,0])).days\n",
    "print(f'Days of test set time period: {deltaTime}')"
   ]
  },
  {
   "cell_type": "markdown",
   "metadata": {},
   "source": [
    "This delta time includes times when the market is shut, however we are only roughly estimating here so I not a huge problem but should be accounted for in a more realistic model!"
   ]
  },
  {
   "cell_type": "code",
   "execution_count": null,
   "metadata": {},
   "outputs": [
    {
     "data": {
      "text/plain": [
       "2503    2023-10-27 01:45:00\n",
       "2504    2023-10-27 02:00:00\n",
       "2505    2023-10-27 02:15:00\n",
       "2506    2023-10-27 02:30:00\n",
       "2507    2023-10-27 02:45:00\n",
       "               ...         \n",
       "2595    2023-10-28 00:45:00\n",
       "2596    2023-10-28 01:00:00\n",
       "2597    2023-10-28 01:15:00\n",
       "2598    2023-10-28 01:30:00\n",
       "2599    2023-10-28 01:45:00\n",
       "Name: datetime, Length: 97, dtype: object"
      ]
     },
     "execution_count": 88,
     "metadata": {},
     "output_type": "execute_result"
    }
   ],
   "source": [
    "test.iloc[0:97,0]"
   ]
  },
  {
   "cell_type": "markdown",
   "metadata": {},
   "source": [
    "Rough estimates of annualised log mean return and variance are calculates below.\n",
    "\n",
    "Note .mean() gives the geometric mean of 15min interval log retruns. Muiltiplying by 96 is because there are 96 15min intervals in a day. And forex trading occurs on all weekdays exlcuing bank holidays (252 trading days a year).\n",
    "\n",
    "This mean and vol are used to calculate kelly creterion, f* = (mu - r)/sigma^2. I assume here the risk free return rate is 0 for simplicity."
   ]
  },
  {
   "cell_type": "code",
   "execution_count": null,
   "metadata": {},
   "outputs": [
    {
     "name": "stdout",
     "output_type": "stream",
     "text": [
      "Mean for passive strat and SVM strat: \n",
      "returns      0.304478\n",
      "strat_svm    2.372135\n",
      "dtype: float64\n",
      "\n",
      "Variance for passive strat and SVM strat: \n",
      "returns      0.002557\n",
      "strat_svm    0.002328\n",
      "dtype: float64\n",
      "\n",
      "Estimated leverage from Kelly Criterion: \n",
      "returns       119.065509\n",
      "strat_svm    1018.796383\n",
      "dtype: float64\n"
     ]
    }
   ],
   "source": [
    "mean = test[['returns', 'strat_svm']].mean() * 96 * 252 \n",
    "var = test[['returns','strat_svm']].var() * 96 * 252\n",
    "vol  = var ** 0.5\n",
    "estimated_kelly = mean/var\n",
    "print(f'Mean for passive strat and SVM strat: \\n{mean}\\n')\n",
    "print(f'Variance for passive strat and SVM strat: \\n{var}\\n')\n",
    "print(f'Estimated leverage from Kelly Criterion: \\n{estimated_kelly}')\n"
   ]
  },
  {
   "cell_type": "markdown",
   "metadata": {},
   "source": [
    "The estimated optimal leverage from the Kelly Criterion is VERY HIGH, 1000. This is obvisouly unrealistics but is a consquence of the the SVM model itself being unrealistic (the annualised log returns are huge, 2.37!! and variance is very low).\n",
    "\n",
    "This again is another symptom of the model likely being overfit or perhaps more just a reflection of the training data of the market itself being just a very lucky time to invest i.e. perhaps the training data time period picked is just a strong period in the market timeline. Collecting a wider range of historical data and training on that may bring the model back to reality."
   ]
  },
  {
   "cell_type": "markdown",
   "metadata": {},
   "source": [
    "## Problems with Kelly\n",
    "\n",
    "The kelly crietrion is only valid FOR KNOWN probabilities! When trading we do not know probabilties with certainty, hence why the kelly fraction is not used in practice.\n",
    "\n",
    "Typical leverage could be around half Kelly values. However the Kelly value calculated here is way too high, as discussed above, so I simply run the recreate "
   ]
  },
  {
   "cell_type": "code",
   "execution_count": null,
   "metadata": {},
   "outputs": [
    {
     "data": {
      "text/plain": [
       "returns      0.000013\n",
       "strat_svm    0.000098\n",
       "dtype: float64"
      ]
     },
     "execution_count": 57,
     "metadata": {},
     "output_type": "execute_result"
    }
   ],
   "source": []
  },
  {
   "cell_type": "markdown",
   "metadata": {},
   "source": [
    "# Risk Analysis\n",
    "\n"
   ]
  }
 ],
 "metadata": {
  "kernelspec": {
   "display_name": "trading",
   "language": "python",
   "name": "python3"
  },
  "language_info": {
   "codemirror_mode": {
    "name": "ipython",
    "version": 3
   },
   "file_extension": ".py",
   "mimetype": "text/x-python",
   "name": "python",
   "nbconvert_exporter": "python",
   "pygments_lexer": "ipython3",
   "version": "3.12.0"
  }
 },
 "nbformat": 4,
 "nbformat_minor": 2
}
